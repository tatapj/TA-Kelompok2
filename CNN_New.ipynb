{
  "nbformat": 4,
  "nbformat_minor": 0,
  "metadata": {
    "colab": {
      "name": "Untitled1.ipynb",
      "provenance": []
    },
    "kernelspec": {
      "name": "python3",
      "display_name": "Python 3"
    },
    "language_info": {
      "name": "python"
    },
    "accelerator": "GPU"
  },
  "cells": [
    {
      "cell_type": "code",
      "execution_count": 1,
      "metadata": {
        "colab": {
          "base_uri": "https://localhost:8080/",
          "height": 35
        },
        "id": "GQPVt_4ExzfZ",
        "outputId": "66ebcccb-0a7d-4db3-bd2f-0c76ed0d3490"
      },
      "outputs": [
        {
          "output_type": "execute_result",
          "data": {
            "text/plain": [
              "'2.8.0'"
            ],
            "application/vnd.google.colaboratory.intrinsic+json": {
              "type": "string"
            }
          },
          "metadata": {},
          "execution_count": 1
        }
      ],
      "source": [
        "import tensorflow as tf\n",
        "tf.__version__"
      ]
    },
    {
      "cell_type": "code",
      "source": [
        "import gdown\n",
        "url = 'https://drive.google.com/uc?id=1x7YC8lHxQWXTj1b-Jw0hIq4AT9iK9niJ' \n",
        "output = 'dataset.zip' \n",
        "gdown.download(url, output, quiet=False)"
      ],
      "metadata": {
        "colab": {
          "base_uri": "https://localhost:8080/"
        },
        "id": "dY-Xh-iCx6-J",
        "outputId": "634d0f77-b774-435c-8b8b-0df668eb626a"
      },
      "execution_count": 2,
      "outputs": [
        {
          "output_type": "stream",
          "name": "stdout",
          "text": [
            "Access denied with the following error:\n"
          ]
        },
        {
          "output_type": "stream",
          "name": "stderr",
          "text": [
            "\n",
            " \tCannot retrieve the public link of the file. You may need to change\n",
            "\tthe permission to 'Anyone with the link', or have had many accesses. \n",
            "\n",
            "You may still be able to access the file from the browser:\n",
            "\n",
            "\t https://drive.google.com/uc?id=1x7YC8lHxQWXTj1b-Jw0hIq4AT9iK9niJ \n",
            "\n"
          ]
        }
      ]
    },
    {
      "cell_type": "code",
      "source": [
        "!cp -r '/content/drive/MyDrive/Mendung' '/content/dataset'"
      ],
      "metadata": {
        "id": "BnVVj2vEya0X"
      },
      "execution_count": 7,
      "outputs": []
    },
    {
      "cell_type": "code",
      "source": [
        "!mkdir dataset"
      ],
      "metadata": {
        "id": "aJY6VXDbymSF"
      },
      "execution_count": 4,
      "outputs": []
    },
    {
      "cell_type": "code",
      "source": [
        "import tensorflow as tf\n",
        "import pandas as pd\n",
        "import numpy as np\n",
        "import os\n",
        "from tensorflow.keras.preprocessing import image\n",
        "import matplotlib.pyplot as plt\n",
        "from tensorflow.keras.layers import Dense,GlobalAveragePooling2D,Dropout\n",
        "from tensorflow.keras.preprocessing import image\n",
        "from tensorflow.keras.applications.mobilenet import preprocess_input\n",
        "from tensorflow.keras.preprocessing.image import ImageDataGenerator\n",
        "from tensorflow.keras.models import Model\n",
        "from tensorflow.keras.optimizers import Adam"
      ],
      "metadata": {
        "id": "bbWcPq8Nyqmy"
      },
      "execution_count": 8,
      "outputs": []
    },
    {
      "cell_type": "code",
      "source": [
        "import tensorflow as tf\n",
        "from tensorflow.keras.optimizers import RMSprop\n",
        "from tensorflow.keras.preprocessing.image import ImageDataGenerator\n",
        "\n",
        "train_datagen = tf.keras.preprocessing.image.ImageDataGenerator(\n",
        "    preprocessing_function=preprocess_input, # Use this preprocess input for transfer learning!\n",
        "    rotation_range=20,\n",
        "    width_shift_range=0.2,\n",
        "    height_shift_range=0.2,\n",
        "    shear_range=0.2,\n",
        "    zoom_range=0.2,\n",
        "    horizontal_flip=True,\n",
        "    fill_mode='nearest', \n",
        "    validation_split=0.1\n",
        ")"
      ],
      "metadata": {
        "id": "qohzhq21yxce"
      },
      "execution_count": 9,
      "outputs": []
    },
    {
      "cell_type": "code",
      "source": [
        "IMG_SIZE = 150 # This's size for transfer learning, this's good 300 (or upper than 220)\n",
        "\n",
        "train_generator = train_datagen.flow_from_directory(\n",
        "    '/content/dataset',             # Source directory\n",
        "    target_size=(IMG_SIZE,IMG_SIZE),  # Resizes images\n",
        "    batch_size=32,\n",
        "    class_mode='categorical',         # Remember to change based the class\n",
        "    subset = 'training'\n",
        ")\n",
        "    \n",
        "validation_generator = train_datagen.flow_from_directory(\n",
        "    '/content/dataset',\n",
        "    target_size=(IMG_SIZE,IMG_SIZE),\n",
        "    batch_size=32,\n",
        "    class_mode='categorical',\n",
        "    subset='validation'\n",
        ")"
      ],
      "metadata": {
        "colab": {
          "base_uri": "https://localhost:8080/"
        },
        "id": "zLI37TB5yz5i",
        "outputId": "1fd17ffa-743f-47ed-d775-6e6bea88042f"
      },
      "execution_count": 16,
      "outputs": [
        {
          "output_type": "stream",
          "name": "stdout",
          "text": [
            "Found 717 images belonging to 3 classes.\n",
            "Found 179 images belonging to 3 classes.\n"
          ]
        }
      ]
    },
    {
      "cell_type": "code",
      "source": [
        "del model"
      ],
      "metadata": {
        "id": "RVbK9K510JDt"
      },
      "execution_count": 22,
      "outputs": []
    },
    {
      "cell_type": "code",
      "source": [
        "model = tf.keras.models.Sequential([ \n",
        "    tf.keras.layers.Conv2D(32, (3,3), activation='relu', input_shape=(IMG_SIZE,IMG_SIZE, 3) ), # Standard image shape\n",
        "    tf.keras.layers.MaxPooling2D(2,2), \n",
        "    tf.keras.layers.Conv2D(64, (3,3), activation='relu'), \n",
        "    tf.keras.layers.MaxPooling2D(2,2),\n",
        "    tf.keras.layers.Conv2D(128, (3,3), activation='relu'), \n",
        "    tf.keras.layers.MaxPooling2D(2,2), \n",
        "    tf.keras.layers.Conv2D(145, (3,3), activation='relu'), \n",
        "    tf.keras.layers.MaxPooling2D(2,2), \n",
        "    tf.keras.layers.Flatten(),\n",
        "    tf.keras.layers.Dropout(0.5),\n",
        "    tf.keras.layers.Dropout(0.1),\n",
        "    tf.keras.layers.Dense(512, activation='relu'), \n",
        "    tf.keras.layers.Dense(3, activation='softmax'),\n",
        "]) "
      ],
      "metadata": {
        "id": "jrWnRXwpy4Nz"
      },
      "execution_count": 23,
      "outputs": []
    },
    {
      "cell_type": "code",
      "source": [
        "model.compile(optimizer=tf.keras.optimizers.Adam(),\n",
        "              loss='categorical_crossentropy',\n",
        "              metrics=['accuracy'])"
      ],
      "metadata": {
        "id": "Ohbl4xJ5y95M"
      },
      "execution_count": 24,
      "outputs": []
    },
    {
      "cell_type": "code",
      "source": [
        "class myCallback(tf.keras.callbacks.Callback):\n",
        "  def on_epoch_end(self, epoch, logs={}):\n",
        "    if(logs.get('accuracy') > 0.95):\n",
        "      print(\"\\nAccuracy better than target training!\")\n",
        "      self.model.stop_training = True\n",
        "\n",
        "callbacks = myCallback()"
      ],
      "metadata": {
        "id": "olSr4lI1zMsP"
      },
      "execution_count": 25,
      "outputs": []
    },
    {
      "cell_type": "code",
      "source": [
        "%%time\n",
        "history = model.fit(\n",
        "    train_generator,\n",
        "    epochs = 15,\n",
        "    validation_data = validation_generator,\n",
        "    callbacks=[callbacks]\n",
        ")"
      ],
      "metadata": {
        "colab": {
          "base_uri": "https://localhost:8080/"
        },
        "id": "iEFDO2VszOQf",
        "outputId": "07039445-8b4b-43cc-d6bd-06165b29efaf"
      },
      "execution_count": 26,
      "outputs": [
        {
          "output_type": "stream",
          "name": "stdout",
          "text": [
            "Epoch 1/15\n",
            "717/717 [==============================] - 21s 29ms/step - loss: 0.9123 - accuracy: 0.5509 - val_loss: 0.7038 - val_accuracy: 0.7821\n",
            "Epoch 2/15\n",
            "717/717 [==============================] - 21s 29ms/step - loss: 0.7879 - accuracy: 0.6611 - val_loss: 0.6052 - val_accuracy: 0.6927\n",
            "Epoch 3/15\n",
            "717/717 [==============================] - 21s 29ms/step - loss: 0.7072 - accuracy: 0.7517 - val_loss: 0.5990 - val_accuracy: 0.6760\n",
            "Epoch 4/15\n",
            "717/717 [==============================] - 20s 28ms/step - loss: 0.6683 - accuracy: 0.7894 - val_loss: 0.5418 - val_accuracy: 0.8045\n",
            "Epoch 5/15\n",
            "717/717 [==============================] - 20s 28ms/step - loss: 0.4105 - accuracy: 0.8842 - val_loss: 0.3388 - val_accuracy: 0.8827\n",
            "Epoch 6/15\n",
            "717/717 [==============================] - 20s 27ms/step - loss: 0.3171 - accuracy: 0.9010 - val_loss: 0.5321 - val_accuracy: 0.7989\n",
            "Epoch 7/15\n",
            "717/717 [==============================] - 20s 28ms/step - loss: 0.2561 - accuracy: 0.9177 - val_loss: 0.4537 - val_accuracy: 0.8939\n",
            "Epoch 8/15\n",
            "717/717 [==============================] - 20s 29ms/step - loss: 0.3142 - accuracy: 0.9010 - val_loss: 0.3090 - val_accuracy: 0.9218\n",
            "Epoch 9/15\n",
            "717/717 [==============================] - 21s 29ms/step - loss: 0.1918 - accuracy: 0.9372 - val_loss: 0.3814 - val_accuracy: 0.9050\n",
            "Epoch 10/15\n",
            "717/717 [==============================] - 20s 28ms/step - loss: 0.3221 - accuracy: 0.9247 - val_loss: 0.3135 - val_accuracy: 0.9050\n",
            "Epoch 11/15\n",
            "717/717 [==============================] - 20s 28ms/step - loss: 0.2552 - accuracy: 0.9303 - val_loss: 0.2209 - val_accuracy: 0.9106\n",
            "Epoch 12/15\n",
            "717/717 [==============================] - 21s 29ms/step - loss: 0.1893 - accuracy: 0.9414 - val_loss: 0.2535 - val_accuracy: 0.9162\n",
            "Epoch 13/15\n",
            "717/717 [==============================] - 21s 30ms/step - loss: 0.1831 - accuracy: 0.9498 - val_loss: 0.4058 - val_accuracy: 0.8939\n",
            "Epoch 14/15\n",
            "717/717 [==============================] - 22s 31ms/step - loss: 0.2832 - accuracy: 0.9358 - val_loss: 0.2494 - val_accuracy: 0.8994\n",
            "Epoch 15/15\n",
            "711/717 [============================>.] - ETA: 0s - loss: 0.1797 - accuracy: 0.9592\n",
            "Accuracy better than target training!\n",
            "717/717 [==============================] - 20s 28ms/step - loss: 0.1822 - accuracy: 0.9582 - val_loss: 0.2552 - val_accuracy: 0.9106\n",
            "CPU times: user 5min 18s, sys: 14.4 s, total: 5min 32s\n",
            "Wall time: 5min 7s\n"
          ]
        }
      ]
    },
    {
      "cell_type": "code",
      "source": [
        "import matplotlib.pyplot as plt\n",
        "plt.plot(history.history['accuracy'])\n",
        "plt.plot(history.history['val_accuracy'])\n",
        "plt.title('Accuracy Model')\n",
        "plt.ylabel('accuracy')\n",
        "plt.xlabel('epoch')\n",
        "plt.legend(['train', 'test'], loc='upper left')\n",
        "plt.show()\n",
        "\n",
        "plt.plot(history.history['loss'])\n",
        "plt.plot(history.history['val_loss'])\n",
        "plt.title('Loss Model')\n",
        "plt.ylabel('loss')\n",
        "plt.xlabel('epoch')\n",
        "plt.legend(['train', 'test'], loc='upper left')\n",
        "plt.show()"
      ],
      "metadata": {
        "colab": {
          "base_uri": "https://localhost:8080/",
          "height": 573
        },
        "id": "Ue5y-dT-zStT",
        "outputId": "ec7f5bef-d821-4f9e-8ea3-16c2f16aeb4b"
      },
      "execution_count": 27,
      "outputs": [
        {
          "output_type": "display_data",
          "data": {
            "text/plain": [
              "<Figure size 432x288 with 1 Axes>"
            ],
            "image/png": "[encoded data removed]"
          },
          "metadata": {
            "needs_background": "light"
          }
        },
        {
          "output_type": "display_data",
          "data": {
            "text/plain": [
              "<Figure size 432x288 with 1 Axes>"
            ],
            "image/png": "[encoded data removed]"
          },
          "metadata": {
            "needs_background": "light"
          }
        }
      ]
    },
    {
      "cell_type": "code",
      "source": [
        "model.save(\"model/model_TA_v2.h5\")"
      ],
      "metadata": {
        "id": "k-5kqYox1aAf"
      },
      "execution_count": 31,
      "outputs": []
    },
    {
      "cell_type": "code",
      "source": [
        "!du -sh model.zip"
      ],
      "metadata": {
        "colab": {
          "base_uri": "https://localhost:8080/"
        },
        "id": "1nmiSd8O1iHP",
        "outputId": "ee8ac34f-5838-4eef-b04d-bb1efbcea838"
      },
      "execution_count": 34,
      "outputs": [
        {
          "output_type": "stream",
          "name": "stdout",
          "text": [
            "28M\tmodel.zip\n"
          ]
        }
      ]
    },
    {
      "cell_type": "code",
      "source": [
        "!zip -r model.zip model"
      ],
      "metadata": {
        "colab": {
          "base_uri": "https://localhost:8080/"
        },
        "id": "pQfF5KTZ1lhz",
        "outputId": "c29823c5-c2dc-43bb-c999-a0a8231978a3"
      },
      "execution_count": 33,
      "outputs": [
        {
          "output_type": "stream",
          "name": "stdout",
          "text": [
            "  adding: model/ (stored 0%)\n",
            "  adding: model/model_TA_v2.h5 (deflated 32%)\n"
          ]
        }
      ]
    },
    {
      "cell_type": "code",
      "source": [
        "from keras.preprocessing import image\n",
        "import numpy as np\n",
        "\n",
        "new_image = image.load_img('/content/images.jpg', \\\n",
        "                           target_size = (IMG_SIZE,IMG_SIZE))\n",
        "new_image\n",
        "\n",
        "new_image = image.img_to_array(new_image)\n",
        "new_image = np.expand_dims(new_image, axis = 0)\n",
        "new_image = tf.keras.applications.mobilenet.preprocess_input(new_image)\n",
        "result = model.predict(new_image)\n",
        "print(result)\n",
        "result_final = np.argmax(result)\n",
        "result_final"
      ],
      "metadata": {
        "colab": {
          "base_uri": "https://localhost:8080/"
        },
        "id": "sTJfthAJ1sg-",
        "outputId": "3f454047-20c2-43a3-b036-512cbb1ead62"
      },
      "execution_count": 36,
      "outputs": [
        {
          "output_type": "stream",
          "name": "stdout",
          "text": [
            "[[5.0064824e-14 2.4507644e-16 1.0000000e+00]]\n"
          ]
        },
        {
          "output_type": "execute_result",
          "data": {
            "text/plain": [
              "2"
            ]
          },
          "metadata": {},
          "execution_count": 36
        }
      ]
    },
    {
      "cell_type": "code",
      "source": [
        ""
      ],
      "metadata": {
        "id": "qVgjlQ6_2sc2"
      },
      "execution_count": null,
      "outputs": []
    }
  ]
}