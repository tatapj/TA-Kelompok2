{
 "cells": [
  {
   "cell_type": "code",
   "execution_count": 1,
   "id": "9f926450",
   "metadata": {},
   "outputs": [],
   "source": [
    "import os"
   ]
  },
  {
   "cell_type": "code",
   "execution_count": 2,
   "id": "7984dbb2",
   "metadata": {},
   "outputs": [
    {
     "name": "stdout",
     "output_type": "stream",
     "text": [
      "Requirement already satisfied: split-folders in c:\\users\\user\\.conda\\envs\\tensorflow\\lib\\site-packages (0.5.1)\n",
      "Note: you may need to restart the kernel to use updated packages.\n"
     ]
    }
   ],
   "source": [
    "pip install split-folders"
   ]
  },
  {
   "cell_type": "code",
   "execution_count": 3,
   "id": "f885a932",
   "metadata": {},
   "outputs": [
    {
     "name": "stdout",
     "output_type": "stream",
     "text": [
      "Requirement already satisfied: split-folders in c:\\users\\user\\.conda\\envs\\tensorflow\\lib\\site-packages (0.5.1)\n",
      "Requirement already satisfied: tqdm in c:\\users\\user\\.conda\\envs\\tensorflow\\lib\\site-packages (4.64.0)\n",
      "Requirement already satisfied: colorama in c:\\users\\user\\appdata\\roaming\\python\\python39\\site-packages (from tqdm) (0.4.4)\n",
      "Note: you may need to restart the kernel to use updated packages.\n"
     ]
    }
   ],
   "source": [
    "pip install split-folders tqdm"
   ]
  },
  {
   "cell_type": "code",
   "execution_count": 4,
   "id": "446f3e90",
   "metadata": {},
   "outputs": [],
   "source": [
    "from sklearn import datasets\n",
    "from sklearn.model_selection import train_test_split"
   ]
  },
  {
   "cell_type": "code",
   "execution_count": 5,
   "id": "4294c202",
   "metadata": {},
   "outputs": [
    {
     "name": "stderr",
     "output_type": "stream",
     "text": [
      "Copying files: 900 files [00:24, 36.36 files/s]\n"
     ]
    }
   ],
   "source": [
    "import splitfolders\n",
    "input_folder = \"C:/Users/User/Documents/Tugas-Akhir-Kel02/Dataset\"\n",
    "output = \"C:/Users/User/Documents/Tugas-Akhir-Kel02/Result_Dataset\"\n",
    "\n",
    "splitfolders.ratio(input_folder, output=output, seed=42, ratio=(.8, .1, .1))"
   ]
  },
  {
   "cell_type": "code",
   "execution_count": 6,
   "id": "fe53066e",
   "metadata": {},
   "outputs": [],
   "source": [
    "import os\n",
    "import tensorflow as tf\n",
    "from tensorflow.keras.optimizers import Adam\n",
    "from tensorflow.keras.preprocessing.image import ImageDataGenerator"
   ]
  },
  {
   "cell_type": "code",
   "execution_count": 7,
   "id": "c7ea23cb",
   "metadata": {},
   "outputs": [],
   "source": [
    "train_datagen = ImageDataGenerator(\n",
    "                  rescale = 1./255\n",
    ")"
   ]
  },
  {
   "cell_type": "code",
   "execution_count": 8,
   "id": "090d1408",
   "metadata": {},
   "outputs": [
    {
     "name": "stdout",
     "output_type": "stream",
     "text": [
      " Volume in drive C is Y\n",
      " Volume Serial Number is A486-8D35\n",
      "\n",
      " Directory of C:\\Users\\User\\Documents\\Tugas-Akhir-Kel02\\Result_Dataset\n",
      "\n",
      "05/27/2022  03:56 PM    <DIR>          .\n",
      "05/27/2022  03:56 PM    <DIR>          ..\n",
      "05/27/2022  03:56 PM    <DIR>          test\n",
      "05/27/2022  03:56 PM    <DIR>          train\n",
      "05/27/2022  03:56 PM    <DIR>          val\n",
      "               0 File(s)              0 bytes\n",
      "               5 Dir(s)  97,130,463,232 bytes free\n"
     ]
    }
   ],
   "source": [
    "base_dir = 'C:/Users/User/Documents/Tugas-Akhir-Kel02/Result_Dataset'\n",
    "%ls \"C:/Users/User/Documents/Tugas-Akhir-Kel02/Result_Dataset\""
   ]
  },
  {
   "cell_type": "code",
   "execution_count": 9,
   "id": "971ee5b6",
   "metadata": {},
   "outputs": [],
   "source": [
    "import os\n",
    "\n",
    "test_dir = os.path.join(base_dir, 'C:/Users/User/Documents/Tugas-Akhir-Kel02/Result_Dataset/test')\n",
    "train_dir = os.path.join(base_dir, 'C:/Users/User/Documents/Tugas-Akhir-Kel02/Result_Dataset/train')\n",
    "val_dir = os.path.join(base_dir, 'C:/Users/User/Documents/Tugas-Akhir-Kel02/Result_Dataset/val')"
   ]
  },
  {
   "cell_type": "code",
   "execution_count": 13,
   "id": "ab3c30e2",
   "metadata": {},
   "outputs": [
    {
     "name": "stdout",
     "output_type": "stream",
     "text": [
      "Found 720 images belonging to 3 classes.\n",
      "Found 90 images belonging to 3 classes.\n"
     ]
    }
   ],
   "source": [
    "train_generator = train_datagen.flow_from_directory(\n",
    "    train_dir,\n",
    "    target_size = (150, 150),\n",
    "    batch_size = 32,\n",
    "    class_mode = 'categorical'\n",
    ")\n",
    "\n",
    "val_generator = train_datagen.flow_from_directory(\n",
    "    val_dir,\n",
    "    target_size = (150, 150),\n",
    "    batch_size = 32, \n",
    "    class_mode = 'categorical'\n",
    ")"
   ]
  },
  {
   "cell_type": "code",
   "execution_count": 14,
   "id": "abe524a6",
   "metadata": {},
   "outputs": [],
   "source": [
    "import numpy as np\n",
    "import matplotlib.pyplot as plt\n",
    "import os\n",
    "import PIL\n",
    "import math\n",
    "import shutil\n",
    "import glob\n",
    "import tensorflow as tf\n",
    "\n",
    "from tensorflow import keras\n",
    "from tensorflow.keras import layers\n",
    "from tensorflow.keras.models import Sequential\n",
    "from keras.layers import Dense, Dropout, Activation, Flatten, Convolution2D, MaxPooling2D"
   ]
  },
  {
   "cell_type": "code",
   "execution_count": 15,
   "id": "26b015cc",
   "metadata": {},
   "outputs": [],
   "source": [
    "model = tf.keras.models.Sequential([\n",
    "          tf.keras.layers.Conv2D(32, (3, 3), activation = 'relu', input_shape = (150, 150, 3)),\n",
    "          tf.keras.layers.MaxPooling2D(2, 2),\n",
    "          tf.keras.layers.Conv2D(64, (3, 3), activation = 'relu'),\n",
    "          tf.keras.layers.MaxPooling2D(2, 2),\n",
    "          tf.keras.layers.Conv2D(128, (3, 3), activation = 'relu'),\n",
    "          tf.keras.layers.MaxPooling2D(2, 2),\n",
    "          tf.keras.layers.Flatten(),\n",
    "          tf.keras.layers.Dense(250, activation = 'relu'),\n",
    "          tf.keras.layers.Dropout(0.3),\n",
    "          tf.keras.layers.Dense(3, activation = 'softmax')\n",
    "])"
   ]
  },
  {
   "cell_type": "code",
   "execution_count": 16,
   "id": "4ea56e8d",
   "metadata": {},
   "outputs": [],
   "source": [
    "class myCallback(tf.keras.callbacks.Callback):\n",
    "  def on_epoch_end(self, epoch, logs = {}):\n",
    "    if(logs.get('val_accuracy') > 0.90):\n",
    "      print('\\nAccuracy better than target training!')\n",
    "      self.model.stop_training = True\n",
    "\n",
    "callbacks = myCallback()"
   ]
  },
  {
   "cell_type": "code",
   "execution_count": 17,
   "id": "bf3632f6",
   "metadata": {},
   "outputs": [],
   "source": [
    "model.compile(loss = 'categorical_crossentropy',\n",
    "              optimizer = tf.keras.optimizers.Adam(learning_rate=0.00001),\n",
    "              metrics = ['accuracy'])"
   ]
  },
  {
   "cell_type": "code",
   "execution_count": 18,
   "id": "fd7057e8",
   "metadata": {},
   "outputs": [
    {
     "name": "stdout",
     "output_type": "stream",
     "text": [
      "Epoch 1/40\n",
      "23/23 [==============================] - 22s 817ms/step - loss: 1.0800 - accuracy: 0.3417 - val_loss: 1.0486 - val_accuracy: 0.3667\n",
      "Epoch 2/40\n",
      "23/23 [==============================] - 15s 656ms/step - loss: 1.0315 - accuracy: 0.5889 - val_loss: 0.9981 - val_accuracy: 0.6111\n",
      "Epoch 3/40\n",
      "23/23 [==============================] - 15s 661ms/step - loss: 0.9770 - accuracy: 0.6333 - val_loss: 0.9313 - val_accuracy: 0.7778\n",
      "Epoch 4/40\n",
      "23/23 [==============================] - 15s 666ms/step - loss: 0.9104 - accuracy: 0.7347 - val_loss: 0.8529 - val_accuracy: 0.7667\n",
      "Epoch 5/40\n",
      "23/23 [==============================] - 16s 684ms/step - loss: 0.8320 - accuracy: 0.7611 - val_loss: 0.7655 - val_accuracy: 0.8111\n",
      "Epoch 6/40\n",
      "23/23 [==============================] - 16s 709ms/step - loss: 0.7549 - accuracy: 0.7750 - val_loss: 0.6948 - val_accuracy: 0.7778\n",
      "Epoch 7/40\n",
      "23/23 [==============================] - 16s 705ms/step - loss: 0.6853 - accuracy: 0.7861 - val_loss: 0.6357 - val_accuracy: 0.7667\n",
      "Epoch 8/40\n",
      "23/23 [==============================] - 15s 645ms/step - loss: 0.6332 - accuracy: 0.8069 - val_loss: 0.5808 - val_accuracy: 0.8222\n",
      "Epoch 9/40\n",
      "23/23 [==============================] - 16s 676ms/step - loss: 0.5856 - accuracy: 0.8222 - val_loss: 0.5376 - val_accuracy: 0.8778\n",
      "Epoch 10/40\n",
      "23/23 [==============================] - 15s 661ms/step - loss: 0.5368 - accuracy: 0.8250 - val_loss: 0.5031 - val_accuracy: 0.8778\n",
      "Epoch 11/40\n",
      "23/23 [==============================] - 15s 668ms/step - loss: 0.5085 - accuracy: 0.8236 - val_loss: 0.4736 - val_accuracy: 0.8778\n",
      "Epoch 12/40\n",
      "23/23 [==============================] - 16s 669ms/step - loss: 0.4868 - accuracy: 0.8417 - val_loss: 0.4650 - val_accuracy: 0.8444\n",
      "Epoch 13/40\n",
      "23/23 [==============================] - 16s 669ms/step - loss: 0.4707 - accuracy: 0.8375 - val_loss: 0.4337 - val_accuracy: 0.8889\n",
      "Epoch 14/40\n",
      "23/23 [==============================] - 16s 677ms/step - loss: 0.4460 - accuracy: 0.8597 - val_loss: 0.4468 - val_accuracy: 0.8000\n",
      "Epoch 15/40\n",
      "23/23 [==============================] - 15s 663ms/step - loss: 0.4293 - accuracy: 0.8500 - val_loss: 0.4062 - val_accuracy: 0.8889\n",
      "Epoch 16/40\n",
      "23/23 [==============================] - 15s 653ms/step - loss: 0.4075 - accuracy: 0.8514 - val_loss: 0.3950 - val_accuracy: 0.8778\n",
      "Epoch 17/40\n",
      "23/23 [==============================] - 16s 674ms/step - loss: 0.3953 - accuracy: 0.8611 - val_loss: 0.3774 - val_accuracy: 0.9000\n",
      "Epoch 18/40\n",
      "23/23 [==============================] - 16s 658ms/step - loss: 0.3749 - accuracy: 0.8750 - val_loss: 0.3664 - val_accuracy: 0.8889\n",
      "Epoch 19/40\n",
      "23/23 [==============================] - 15s 651ms/step - loss: 0.3598 - accuracy: 0.8903 - val_loss: 0.3694 - val_accuracy: 0.8889\n",
      "Epoch 20/40\n",
      "23/23 [==============================] - 15s 665ms/step - loss: 0.3434 - accuracy: 0.8875 - val_loss: 0.3503 - val_accuracy: 0.8778\n",
      "Epoch 21/40\n",
      "23/23 [==============================] - 16s 674ms/step - loss: 0.3345 - accuracy: 0.8889 - val_loss: 0.3367 - val_accuracy: 0.9000\n",
      "Epoch 22/40\n",
      "23/23 [==============================] - 16s 693ms/step - loss: 0.3198 - accuracy: 0.8972 - val_loss: 0.3278 - val_accuracy: 0.8889\n",
      "Epoch 23/40\n",
      "23/23 [==============================] - 15s 658ms/step - loss: 0.3070 - accuracy: 0.9083 - val_loss: 0.3195 - val_accuracy: 0.8889\n",
      "Epoch 24/40\n",
      "23/23 [==============================] - 16s 664ms/step - loss: 0.3078 - accuracy: 0.9097 - val_loss: 0.3074 - val_accuracy: 0.9000\n",
      "Epoch 25/40\n",
      "23/23 [==============================] - 16s 681ms/step - loss: 0.2827 - accuracy: 0.9125 - val_loss: 0.2994 - val_accuracy: 0.9000\n",
      "Epoch 26/40\n",
      "23/23 [==============================] - 16s 710ms/step - loss: 0.2786 - accuracy: 0.9167 - val_loss: 0.3013 - val_accuracy: 0.9000\n",
      "Epoch 27/40\n",
      "23/23 [==============================] - 15s 652ms/step - loss: 0.2701 - accuracy: 0.9194 - val_loss: 0.2836 - val_accuracy: 0.9000\n",
      "Epoch 28/40\n",
      "23/23 [==============================] - 15s 642ms/step - loss: 0.2573 - accuracy: 0.9264 - val_loss: 0.2798 - val_accuracy: 0.8889\n",
      "Epoch 29/40\n",
      "23/23 [==============================] - 16s 677ms/step - loss: 0.2550 - accuracy: 0.9167 - val_loss: 0.2725 - val_accuracy: 0.9000\n",
      "Epoch 30/40\n",
      "23/23 [==============================] - 16s 669ms/step - loss: 0.2474 - accuracy: 0.9278 - val_loss: 0.2659 - val_accuracy: 0.9222\n",
      "\n",
      "Accuracy better than target training!\n",
      "CPU times: total: 48min 34s\n",
      "Wall time: 8min 6s\n"
     ]
    }
   ],
   "source": [
    "%%time\n",
    "history = model.fit(\n",
    "            train_generator,\n",
    "            epochs = 40,\n",
    "            validation_data = val_generator,\n",
    "            callbacks = [callbacks]\n",
    ")"
   ]
  },
  {
   "cell_type": "code",
   "execution_count": 19,
   "id": "6a627cc7",
   "metadata": {},
   "outputs": [
    {
     "data": {
      "image/png": "[encoded data removed]",
      "text/plain": [
       "<Figure size 432x288 with 1 Axes>"
      ]
     },
     "metadata": {
      "needs_background": "light"
     },
     "output_type": "display_data"
    },
    {
     "data": {
      "image/png": "[encoded data removed]",
      "text/plain": [
       "<Figure size 432x288 with 1 Axes>"
      ]
     },
     "metadata": {
      "needs_background": "light"
     },
     "output_type": "display_data"
    }
   ],
   "source": [
    "import matplotlib.pyplot as plt\n",
    "%matplotlib inline\n",
    "\n",
    "import matplotlib.image as mping\n",
    "import matplotlib.pyplot as plt\n",
    "\n",
    "acc = history.history['accuracy']\n",
    "val_acc = history.history['val_accuracy']\n",
    "loss = history.history['loss']\n",
    "val_loss = history.history['val_loss']\n",
    "\n",
    "epochs = range(len(acc))\n",
    "\n",
    "plt.plot(epochs, acc, 'r', label = 'Training Accuracy')\n",
    "plt.plot(epochs, val_acc, 'b', label = 'Validation Accuracy')\n",
    "plt.title('Training and Validation Accuracy')\n",
    "plt.legend(loc = 'best')\n",
    "plt.show()\n",
    "\n",
    "plt.plot(epochs, loss, 'r', label = 'Training Loss')\n",
    "plt.plot(epochs, val_loss, 'b', label = 'Validation Loss')\n",
    "plt.title('Training and Validation Loss')\n",
    "plt.legend(loc = 'best')\n",
    "plt.show()"
   ]
  },
  {
   "cell_type": "code",
   "execution_count": 31,
   "id": "8d2fec7d",
   "metadata": {},
   "outputs": [],
   "source": [
    "model.save(\"C:/Users/User/Documents/Tugas-Akhir-Kel02/Model/model_TA.h5\")"
   ]
  },
  {
   "cell_type": "code",
   "execution_count": 32,
   "id": "9ec5ff5d",
   "metadata": {},
   "outputs": [
    {
     "name": "stdout",
     "output_type": "stream",
     "text": [
      "Found 900 images belonging to 3 classes.\n"
     ]
    }
   ],
   "source": [
    "akurasi_test_generator = train_datagen.flow_from_directory(\n",
    "'C:/Users/User/Documents/Tugas-Akhir-Kel02/Dataset',\n",
    "target_size=(150,150),\n",
    "batch_size=32,\n",
    "class_mode='categorical',\n",
    ")"
   ]
  },
  {
   "cell_type": "code",
   "execution_count": 33,
   "id": "132616ee",
   "metadata": {},
   "outputs": [
    {
     "name": "stdout",
     "output_type": "stream",
     "text": [
      "29/29 [==============================] - 11s 371ms/step - loss: 0.2507 - accuracy: 0.9256\n",
      "test loss, test acc: [0.250730961561203, 0.9255555272102356]\n"
     ]
    }
   ],
   "source": [
    "results = model.evaluate(akurasi_test_generator)\n",
    "print(\"test loss, test acc:\", results)"
   ]
  },
  {
   "cell_type": "code",
   "execution_count": null,
   "id": "780187b0",
   "metadata": {},
   "outputs": [],
   "source": []
  }
 ],
 "metadata": {
  "kernelspec": {
   "display_name": "Python 3 (ipykernel)",
   "language": "python",
   "name": "python3"
  },
  "language_info": {
   "codemirror_mode": {
    "name": "ipython",
    "version": 3
   },
   "file_extension": ".py",
   "mimetype": "text/x-python",
   "name": "python",
   "nbconvert_exporter": "python",
   "pygments_lexer": "ipython3",
   "version": "3.9.12"
  }
 },
 "nbformat": 4,
 "nbformat_minor": 5
}
