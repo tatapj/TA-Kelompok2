{
 "cells": [
  {
   "cell_type": "code",
   "execution_count": 1,
   "metadata": {
    "colab": {
     "base_uri": "https://localhost:8080/"
    },
    "executionInfo": {
     "elapsed": 15992,
     "status": "ok",
     "timestamp": 1649812094277,
     "user": {
      "displayName": "Tata Risa",
      "userId": "13357069012277764241"
     },
     "user_tz": -420
    },
    "id": "v4VoQM3b3onu",
    "outputId": "ede9af2e-eef7-46d4-dac5-40f69ff0318a"
   },
   "outputs": [
    {
     "name": "stdout",
     "output_type": "stream",
     "text": [
      "Drive already mounted at /content/drive/; to attempt to forcibly remount, call drive.mount(\"/content/drive/\", force_remount=True).\n"
     ]
    }
   ],
   "source": [
    "from google.colab import drive\n",
    "import os\n",
    "\n",
    "drive.mount('/content/drive/')"
   ]
  },
  {
   "cell_type": "code",
   "execution_count": 2,
   "metadata": {
    "executionInfo": {
     "elapsed": 3208,
     "status": "ok",
     "timestamp": 1649812099711,
     "user": {
      "displayName": "Tata Risa",
      "userId": "13357069012277764241"
     },
     "user_tz": -420
    },
    "id": "zRhTaQCN4b25"
   },
   "outputs": [],
   "source": [
    "!pip install -q keras"
   ]
  },
  {
   "cell_type": "code",
   "execution_count": 3,
   "metadata": {
    "executionInfo": {
     "elapsed": 2266,
     "status": "ok",
     "timestamp": 1649812105661,
     "user": {
      "displayName": "Tata Risa",
      "userId": "13357069012277764241"
     },
     "user_tz": -420
    },
    "id": "L_j_wDIrV3_y"
   },
   "outputs": [],
   "source": [
    "import keras"
   ]
  },
  {
   "cell_type": "code",
   "execution_count": 4,
   "metadata": {
    "executionInfo": {
     "elapsed": 48022,
     "status": "ok",
     "timestamp": 1649812157799,
     "user": {
      "displayName": "Tata Risa",
      "userId": "13357069012277764241"
     },
     "user_tz": -420
    },
    "id": "PoZfEGq7ZFv2"
   },
   "outputs": [],
   "source": [
    "!cp -r /content/drive/MyDrive/TA/Data/Bahan /content"
   ]
  },
  {
   "cell_type": "code",
   "execution_count": 5,
   "metadata": {
    "executionInfo": {
     "elapsed": 540,
     "status": "ok",
     "timestamp": 1649812246877,
     "user": {
      "displayName": "Tata Risa",
      "userId": "13357069012277764241"
     },
     "user_tz": -420
    },
    "id": "R7qf1VYYZI7V"
   },
   "outputs": [],
   "source": [
    "from sklearn import datasets"
   ]
  },
  {
   "cell_type": "code",
   "execution_count": 6,
   "metadata": {
    "executionInfo": {
     "elapsed": 6,
     "status": "ok",
     "timestamp": 1649812249372,
     "user": {
      "displayName": "Tata Risa",
      "userId": "13357069012277764241"
     },
     "user_tz": -420
    },
    "id": "gcGtThvubFsw"
   },
   "outputs": [],
   "source": [
    "from sklearn.model_selection import train_test_split"
   ]
  },
  {
   "cell_type": "code",
   "execution_count": 7,
   "metadata": {
    "colab": {
     "base_uri": "https://localhost:8080/"
    },
    "executionInfo": {
     "elapsed": 3566,
     "status": "ok",
     "timestamp": 1649812255259,
     "user": {
      "displayName": "Tata Risa",
      "userId": "13357069012277764241"
     },
     "user_tz": -420
    },
    "id": "VNE1KpCl0iOA",
    "outputId": "1dec5492-df01-4769-fdc3-d87c55868880"
   },
   "outputs": [
    {
     "name": "stdout",
     "output_type": "stream",
     "text": [
      "Collecting split-folders\n",
      "  Downloading split_folders-0.5.1-py3-none-any.whl (8.4 kB)\n",
      "Installing collected packages: split-folders\n",
      "Successfully installed split-folders-0.5.1\n"
     ]
    },
    {
     "name": "stderr",
     "output_type": "stream",
     "text": [
      "Copying files: 896 files [00:00, 2146.69 files/s]\n"
     ]
    }
   ],
   "source": [
    "!pip install split-folders\n",
    "import splitfolders # or import splitfolders\n",
    "input_folder = \"/content/Bahan\"\n",
    "output = \"/content/Result\" #where you want the split datasets saved. one will be created if it does not exist or none is set\n",
    "\n",
    "splitfolders.ratio(input_folder, output=output, seed=42, ratio=(.8, .1, .1)) # ratio of split are in order of train/val/test. You can change to whatever you want. For train/val sets only, you could do .75, .25 for example."
   ]
  },
  {
   "cell_type": "markdown",
   "metadata": {
    "id": "KfvJpiI-ty4r"
   },
   "source": []
  },
  {
   "cell_type": "code",
   "execution_count": 8,
   "metadata": {
    "executionInfo": {
     "elapsed": 6,
     "status": "ok",
     "timestamp": 1649812257276,
     "user": {
      "displayName": "Tata Risa",
      "userId": "13357069012277764241"
     },
     "user_tz": -420
    },
    "id": "n9fBycW4naCU"
   },
   "outputs": [],
   "source": [
    "import os\n",
    "\n",
    "# /content/Bahan"
   ]
  },
  {
   "cell_type": "markdown",
   "metadata": {
    "id": "a24BgoaI1Pz1"
   },
   "source": [
    "Pre processing"
   ]
  },
  {
   "cell_type": "code",
   "execution_count": 9,
   "metadata": {
    "executionInfo": {
     "elapsed": 6,
     "status": "ok",
     "timestamp": 1649812259623,
     "user": {
      "displayName": "Tata Risa",
      "userId": "13357069012277764241"
     },
     "user_tz": -420
    },
    "id": "Iqnj7R2S2LDf"
   },
   "outputs": [],
   "source": [
    "import tensorflow as tf\n",
    "from tensorflow.keras.optimizers import Adam\n",
    "from tensorflow.keras.preprocessing.image import ImageDataGenerator"
   ]
  },
  {
   "cell_type": "code",
   "execution_count": 10,
   "metadata": {
    "executionInfo": {
     "elapsed": 7,
     "status": "ok",
     "timestamp": 1649812261339,
     "user": {
      "displayName": "Tata Risa",
      "userId": "13357069012277764241"
     },
     "user_tz": -420
    },
    "id": "80E9HvIC5gGg"
   },
   "outputs": [],
   "source": [
    "\"\"\"train_datagen = ImageDataGenerator(\n",
    "                  rescale = 1./255,\n",
    "                  rotation_range = 30,\n",
    "                  horizontal_flip = True,\n",
    "                  shear_range = 0.3,\n",
    "                  fill_mode = 'nearest',\n",
    "                  width_shift_range = 0.2,\n",
    "                  height_shift_range = 0.2,\n",
    "                  zoom_range = 0.1\n",
    ")\n",
    "\n",
    "val_datagen = ImageDataGenerator(\n",
    "                  rescale = 1./255,\n",
    "                  rotation_range = 30,\n",
    "                  horizontal_flip = True,\n",
    "                  shear_range = 0.3,\n",
    "                  fill_mode = 'nearest',\n",
    "                  width_shift_range = 0.2,\n",
    "                  height_shift_range = 0.2,\n",
    "                  zoom_range = 0.1\n",
    ")\"\"\"\n",
    "\n",
    "train_datagen = ImageDataGenerator(\n",
    "                  rescale = 1./255\n",
    ")"
   ]
  },
  {
   "cell_type": "code",
   "execution_count": 11,
   "metadata": {
    "colab": {
     "base_uri": "https://localhost:8080/"
    },
    "executionInfo": {
     "elapsed": 11,
     "status": "ok",
     "timestamp": 1649812265891,
     "user": {
      "displayName": "Tata Risa",
      "userId": "13357069012277764241"
     },
     "user_tz": -420
    },
    "id": "zzYl4uWODr1I",
    "outputId": "7698519a-98ca-4a06-8853-1f271d536c80"
   },
   "outputs": [
    {
     "name": "stdout",
     "output_type": "stream",
     "text": [
      "test  train  val\n"
     ]
    }
   ],
   "source": [
    "base_dir = '/content/Result'\n",
    "!ls \"/content/Result\""
   ]
  },
  {
   "cell_type": "code",
   "execution_count": 12,
   "metadata": {
    "executionInfo": {
     "elapsed": 8,
     "status": "ok",
     "timestamp": 1649812268089,
     "user": {
      "displayName": "Tata Risa",
      "userId": "13357069012277764241"
     },
     "user_tz": -420
    },
    "id": "M_Jgn2xuGVbm"
   },
   "outputs": [],
   "source": [
    "import os\n",
    "\n",
    "test_dir = os.path.join(base_dir, 'test')\n",
    "train_dir = os.path.join(base_dir, 'train')\n",
    "val_dir = os.path.join(base_dir, 'val')"
   ]
  },
  {
   "cell_type": "markdown",
   "metadata": {
    "id": "GROfmGsbC-X-"
   },
   "source": [
    "Target"
   ]
  },
  {
   "cell_type": "code",
   "execution_count": 13,
   "metadata": {
    "colab": {
     "base_uri": "https://localhost:8080/"
    },
    "executionInfo": {
     "elapsed": 72,
     "status": "ok",
     "timestamp": 1649812270810,
     "user": {
      "displayName": "Tata Risa",
      "userId": "13357069012277764241"
     },
     "user_tz": -420
    },
    "id": "OsanSU6xAECX",
    "outputId": "49b515e5-67fc-466c-9a69-c9f44cec0b56"
   },
   "outputs": [
    {
     "name": "stdout",
     "output_type": "stream",
     "text": [
      "Found 716 images belonging to 3 classes.\n",
      "Found 89 images belonging to 3 classes.\n"
     ]
    }
   ],
   "source": [
    "train_generator = train_datagen.flow_from_directory(\n",
    "    train_dir,\n",
    "    target_size = (150, 150),\n",
    "    batch_size = 32,\n",
    "    class_mode = 'categorical'\n",
    ")\n",
    "\n",
    "val_generator = train_datagen.flow_from_directory(\n",
    "    val_dir,\n",
    "    target_size = (150, 150),\n",
    "    batch_size = 32, \n",
    "    class_mode = 'categorical'\n",
    ")"
   ]
  },
  {
   "cell_type": "code",
   "execution_count": 14,
   "metadata": {
    "executionInfo": {
     "elapsed": 719,
     "status": "ok",
     "timestamp": 1649812274695,
     "user": {
      "displayName": "Tata Risa",
      "userId": "13357069012277764241"
     },
     "user_tz": -420
    },
    "id": "ehxh_QYwDpv1"
   },
   "outputs": [],
   "source": [
    "class myCallback(tf.keras.callbacks.Callback):\n",
    "  def on_epoch_end(self, epoch, logs = {}):\n",
    "    if(logs.get('val_accuracy') > 0.95):\n",
    "      print('\\nAkurasi mencapai 95%')\n",
    "      self.model.stop_training = True\n",
    "\n",
    "callbacks = myCallback()"
   ]
  },
  {
   "cell_type": "markdown",
   "metadata": {
    "id": "RzvN8zT8iYE5"
   },
   "source": [
    "Model CNN"
   ]
  },
  {
   "cell_type": "code",
   "execution_count": 15,
   "metadata": {
    "executionInfo": {
     "elapsed": 6,
     "status": "ok",
     "timestamp": 1649812276966,
     "user": {
      "displayName": "Tata Risa",
      "userId": "13357069012277764241"
     },
     "user_tz": -420
    },
    "id": "LD4WQv27iaFl"
   },
   "outputs": [],
   "source": [
    "import numpy as np\n",
    "import matplotlib.pyplot as plt\n",
    "import os\n",
    "import PIL\n",
    "import math\n",
    "import shutil\n",
    "import glob\n",
    "import tensorflow as tf\n",
    "\n",
    "from tensorflow import keras\n",
    "from tensorflow.keras import layers\n",
    "from tensorflow.keras.models import Sequential\n",
    "from keras.layers import Dense, Dropout, Activation, Flatten, Convolution2D, MaxPooling2D"
   ]
  },
  {
   "cell_type": "code",
   "execution_count": 16,
   "metadata": {
    "executionInfo": {
     "elapsed": 3300,
     "status": "ok",
     "timestamp": 1649812285492,
     "user": {
      "displayName": "Tata Risa",
      "userId": "13357069012277764241"
     },
     "user_tz": -420
    },
    "id": "BW7cHj4Ei_t4"
   },
   "outputs": [],
   "source": [
    "model = tf.keras.models.Sequential([\n",
    "          tf.keras.layers.Conv2D(32, (3, 3), activation = 'relu', input_shape = (150, 150, 3)),\n",
    "          tf.keras.layers.MaxPooling2D(2, 2),\n",
    "          tf.keras.layers.Conv2D(64, (3, 3), activation = 'relu'),\n",
    "          tf.keras.layers.MaxPooling2D(2, 2),\n",
    "          tf.keras.layers.Conv2D(128, (3, 3), activation = 'relu'),\n",
    "          tf.keras.layers.MaxPooling2D(2, 2),\n",
    "          tf.keras.layers.Flatten(),\n",
    "          tf.keras.layers.Dense(250, activation = 'relu'),\n",
    "          tf.keras.layers.Dropout(0.3),\n",
    "          tf.keras.layers.Dense(3, activation = 'softmax')\n",
    "])"
   ]
  },
  {
   "cell_type": "code",
   "execution_count": 17,
   "metadata": {
    "executionInfo": {
     "elapsed": 510,
     "status": "ok",
     "timestamp": 1649812288767,
     "user": {
      "displayName": "Tata Risa",
      "userId": "13357069012277764241"
     },
     "user_tz": -420
    },
    "id": "hYjaIXvEDREL"
   },
   "outputs": [],
   "source": [
    "import warnings\n",
    "warnings.filterwarnings('ignore')"
   ]
  },
  {
   "cell_type": "code",
   "execution_count": 18,
   "metadata": {
    "colab": {
     "base_uri": "https://localhost:8080/"
    },
    "executionInfo": {
     "elapsed": 50,
     "status": "ok",
     "timestamp": 1649812290831,
     "user": {
      "displayName": "Tata Risa",
      "userId": "13357069012277764241"
     },
     "user_tz": -420
    },
    "id": "DPLgMXQ0o-9n",
    "outputId": "bd59ab23-f349-412a-dd17-0204e1d0ab3b"
   },
   "outputs": [
    {
     "name": "stdout",
     "output_type": "stream",
     "text": [
      "Model: \"sequential\"\n",
      "_________________________________________________________________\n",
      " Layer (type)                Output Shape              Param #   \n",
      "=================================================================\n",
      " conv2d (Conv2D)             (None, 148, 148, 32)      896       \n",
      "                                                                 \n",
      " max_pooling2d (MaxPooling2D  (None, 74, 74, 32)       0         \n",
      " )                                                               \n",
      "                                                                 \n",
      " conv2d_1 (Conv2D)           (None, 72, 72, 64)        18496     \n",
      "                                                                 \n",
      " max_pooling2d_1 (MaxPooling  (None, 36, 36, 64)       0         \n",
      " 2D)                                                             \n",
      "                                                                 \n",
      " conv2d_2 (Conv2D)           (None, 34, 34, 128)       73856     \n",
      "                                                                 \n",
      " max_pooling2d_2 (MaxPooling  (None, 17, 17, 128)      0         \n",
      " 2D)                                                             \n",
      "                                                                 \n",
      " flatten (Flatten)           (None, 36992)             0         \n",
      "                                                                 \n",
      " dense (Dense)               (None, 250)               9248250   \n",
      "                                                                 \n",
      " dropout (Dropout)           (None, 250)               0         \n",
      "                                                                 \n",
      " dense_1 (Dense)             (None, 3)                 753       \n",
      "                                                                 \n",
      "=================================================================\n",
      "Total params: 9,342,251\n",
      "Trainable params: 9,342,251\n",
      "Non-trainable params: 0\n",
      "_________________________________________________________________\n"
     ]
    }
   ],
   "source": [
    "model.summary()"
   ]
  },
  {
   "cell_type": "code",
   "execution_count": 19,
   "metadata": {
    "executionInfo": {
     "elapsed": 722,
     "status": "ok",
     "timestamp": 1649812296926,
     "user": {
      "displayName": "Tata Risa",
      "userId": "13357069012277764241"
     },
     "user_tz": -420
    },
    "id": "QXfebFZIp16y"
   },
   "outputs": [],
   "source": [
    "model.compile(loss = 'categorical_crossentropy',\n",
    "              optimizer = tf.keras.optimizers.Adam(learning_rate=0.00001),\n",
    "              metrics = ['accuracy'])"
   ]
  },
  {
   "cell_type": "code",
   "execution_count": 20,
   "metadata": {
    "colab": {
     "base_uri": "https://localhost:8080/"
    },
    "executionInfo": {
     "elapsed": 519515,
     "status": "ok",
     "timestamp": 1649812818841,
     "user": {
      "displayName": "Tata Risa",
      "userId": "13357069012277764241"
     },
     "user_tz": -420
    },
    "id": "22qTO71Sp-6a",
    "outputId": "3d9189b0-c994-4f87-842c-739964c26700"
   },
   "outputs": [
    {
     "name": "stdout",
     "output_type": "stream",
     "text": [
      "Epoch 1/40\n",
      "23/23 [==============================] - 24s 639ms/step - loss: 1.0792 - accuracy: 0.3980 - val_loss: 1.0750 - val_accuracy: 0.3371\n",
      "Epoch 2/40\n",
      "23/23 [==============================] - 13s 571ms/step - loss: 1.0261 - accuracy: 0.4637 - val_loss: 1.0169 - val_accuracy: 0.4382\n",
      "Epoch 3/40\n",
      "23/23 [==============================] - 13s 546ms/step - loss: 0.9632 - accuracy: 0.6187 - val_loss: 0.9451 - val_accuracy: 0.7528\n",
      "Epoch 4/40\n",
      "23/23 [==============================] - 13s 560ms/step - loss: 0.8957 - accuracy: 0.6508 - val_loss: 0.8807 - val_accuracy: 0.7191\n",
      "Epoch 5/40\n",
      "23/23 [==============================] - 13s 545ms/step - loss: 0.8080 - accuracy: 0.7123 - val_loss: 0.7877 - val_accuracy: 0.7528\n",
      "Epoch 6/40\n",
      "23/23 [==============================] - 13s 569ms/step - loss: 0.7486 - accuracy: 0.7263 - val_loss: 0.7245 - val_accuracy: 0.7416\n",
      "Epoch 7/40\n",
      "23/23 [==============================] - 13s 555ms/step - loss: 0.7115 - accuracy: 0.7332 - val_loss: 0.6904 - val_accuracy: 0.6966\n",
      "Epoch 8/40\n",
      "23/23 [==============================] - 13s 569ms/step - loss: 0.6600 - accuracy: 0.7696 - val_loss: 0.6562 - val_accuracy: 0.7528\n",
      "Epoch 9/40\n",
      "23/23 [==============================] - 13s 524ms/step - loss: 0.6290 - accuracy: 0.7598 - val_loss: 0.5936 - val_accuracy: 0.7978\n",
      "Epoch 10/40\n",
      "23/23 [==============================] - 13s 564ms/step - loss: 0.5899 - accuracy: 0.7905 - val_loss: 0.5666 - val_accuracy: 0.7865\n",
      "Epoch 11/40\n",
      "23/23 [==============================] - 13s 550ms/step - loss: 0.5621 - accuracy: 0.8115 - val_loss: 0.5461 - val_accuracy: 0.8315\n",
      "Epoch 12/40\n",
      "23/23 [==============================] - 13s 556ms/step - loss: 0.5473 - accuracy: 0.8073 - val_loss: 0.5314 - val_accuracy: 0.8090\n",
      "Epoch 13/40\n",
      "23/23 [==============================] - 13s 542ms/step - loss: 0.5236 - accuracy: 0.8184 - val_loss: 0.4975 - val_accuracy: 0.7865\n",
      "Epoch 14/40\n",
      "23/23 [==============================] - 13s 559ms/step - loss: 0.5162 - accuracy: 0.8254 - val_loss: 0.4859 - val_accuracy: 0.8315\n",
      "Epoch 15/40\n",
      "23/23 [==============================] - 13s 555ms/step - loss: 0.4768 - accuracy: 0.8366 - val_loss: 0.4585 - val_accuracy: 0.8539\n",
      "Epoch 16/40\n",
      "23/23 [==============================] - 13s 566ms/step - loss: 0.4689 - accuracy: 0.8436 - val_loss: 0.4603 - val_accuracy: 0.8539\n",
      "Epoch 17/40\n",
      "23/23 [==============================] - 13s 553ms/step - loss: 0.4423 - accuracy: 0.8506 - val_loss: 0.4336 - val_accuracy: 0.8427\n",
      "Epoch 18/40\n",
      "23/23 [==============================] - 13s 526ms/step - loss: 0.4402 - accuracy: 0.8520 - val_loss: 0.4133 - val_accuracy: 0.8764\n",
      "Epoch 19/40\n",
      "23/23 [==============================] - 13s 536ms/step - loss: 0.4248 - accuracy: 0.8617 - val_loss: 0.4032 - val_accuracy: 0.8876\n",
      "Epoch 20/40\n",
      "23/23 [==============================] - 13s 548ms/step - loss: 0.3904 - accuracy: 0.8729 - val_loss: 0.3916 - val_accuracy: 0.8764\n",
      "Epoch 21/40\n",
      "23/23 [==============================] - 13s 563ms/step - loss: 0.3811 - accuracy: 0.8799 - val_loss: 0.3775 - val_accuracy: 0.9101\n",
      "Epoch 22/40\n",
      "23/23 [==============================] - 13s 551ms/step - loss: 0.3662 - accuracy: 0.8883 - val_loss: 0.3883 - val_accuracy: 0.8652\n",
      "Epoch 23/40\n",
      "23/23 [==============================] - 13s 540ms/step - loss: 0.3598 - accuracy: 0.8855 - val_loss: 0.3685 - val_accuracy: 0.8989\n",
      "Epoch 24/40\n",
      "23/23 [==============================] - 13s 531ms/step - loss: 0.3672 - accuracy: 0.8771 - val_loss: 0.3463 - val_accuracy: 0.9101\n",
      "Epoch 25/40\n",
      "23/23 [==============================] - 13s 572ms/step - loss: 0.3377 - accuracy: 0.9008 - val_loss: 0.3356 - val_accuracy: 0.9101\n",
      "Epoch 26/40\n",
      "23/23 [==============================] - 13s 574ms/step - loss: 0.3343 - accuracy: 0.8911 - val_loss: 0.3438 - val_accuracy: 0.8876\n",
      "Epoch 27/40\n",
      "23/23 [==============================] - 13s 537ms/step - loss: 0.3163 - accuracy: 0.9064 - val_loss: 0.3176 - val_accuracy: 0.9101\n",
      "Epoch 28/40\n",
      "23/23 [==============================] - 13s 551ms/step - loss: 0.2988 - accuracy: 0.9120 - val_loss: 0.3308 - val_accuracy: 0.8539\n",
      "Epoch 29/40\n",
      "23/23 [==============================] - 13s 541ms/step - loss: 0.3082 - accuracy: 0.9022 - val_loss: 0.3008 - val_accuracy: 0.9326\n",
      "Epoch 30/40\n",
      "23/23 [==============================] - 13s 562ms/step - loss: 0.2798 - accuracy: 0.9148 - val_loss: 0.2947 - val_accuracy: 0.9326\n",
      "Epoch 31/40\n",
      "23/23 [==============================] - 13s 560ms/step - loss: 0.2770 - accuracy: 0.9162 - val_loss: 0.2967 - val_accuracy: 0.9101\n",
      "Epoch 32/40\n",
      "23/23 [==============================] - 13s 545ms/step - loss: 0.2694 - accuracy: 0.9218 - val_loss: 0.2795 - val_accuracy: 0.9326\n",
      "Epoch 33/40\n",
      "23/23 [==============================] - 13s 549ms/step - loss: 0.2676 - accuracy: 0.9176 - val_loss: 0.2743 - val_accuracy: 0.9326\n",
      "Epoch 34/40\n",
      "23/23 [==============================] - 13s 531ms/step - loss: 0.2409 - accuracy: 0.9399 - val_loss: 0.2782 - val_accuracy: 0.9213\n",
      "Epoch 35/40\n",
      "23/23 [==============================] - 13s 553ms/step - loss: 0.2371 - accuracy: 0.9358 - val_loss: 0.2542 - val_accuracy: 0.9326\n",
      "Epoch 36/40\n",
      "23/23 [==============================] - 13s 561ms/step - loss: 0.2277 - accuracy: 0.9344 - val_loss: 0.2486 - val_accuracy: 0.9326\n",
      "Epoch 37/40\n",
      "23/23 [==============================] - 13s 526ms/step - loss: 0.2289 - accuracy: 0.9372 - val_loss: 0.2600 - val_accuracy: 0.9213\n",
      "Epoch 38/40\n",
      "23/23 [==============================] - 13s 543ms/step - loss: 0.2370 - accuracy: 0.9232 - val_loss: 0.2475 - val_accuracy: 0.9326\n",
      "Epoch 39/40\n",
      "23/23 [==============================] - 13s 565ms/step - loss: 0.2237 - accuracy: 0.9330 - val_loss: 0.2330 - val_accuracy: 0.9326\n",
      "Epoch 40/40\n",
      "23/23 [==============================] - 13s 564ms/step - loss: 0.2153 - accuracy: 0.9358 - val_loss: 0.2269 - val_accuracy: 0.9438\n"
     ]
    }
   ],
   "source": [
    "history = model.fit(\n",
    "            train_generator,\n",
    "            epochs = 40,\n",
    "            validation_data = val_generator,\n",
    "            callbacks = [callbacks]\n",
    ")"
   ]
  },
  {
   "cell_type": "code",
   "execution_count": 21,
   "metadata": {
    "colab": {
     "base_uri": "https://localhost:8080/",
     "height": 300
    },
    "executionInfo": {
     "elapsed": 754,
     "status": "ok",
     "timestamp": 1649812925687,
     "user": {
      "displayName": "Tata Risa",
      "userId": "13357069012277764241"
     },
     "user_tz": -420
    },
    "id": "Vg0HAnp0PY8z",
    "outputId": "72d072d6-95ea-49e0-e236-109d3b5f2e1f"
   },
   "outputs": [
    {
     "data": {
      "text/plain": [
       "<matplotlib.legend.Legend at 0x7feb4e1af750>"
      ]
     },
     "execution_count": 21,
     "metadata": {},
     "output_type": "execute_result"
    },
    {
     "data": {
      "image/png": "[encoded data removed]",
      "text/plain": [
       "<Figure size 432x288 with 1 Axes>"
      ]
     },
     "metadata": {
      "needs_background": "light"
     },
     "output_type": "display_data"
    }
   ],
   "source": [
    "import matplotlib.pyplot as plt\n",
    "\n",
    "plt.plot(history.history['accuracy'], label='accuracy')\n",
    "plt.plot(history.history['val_accuracy'], label = 'val_accuracy')\n",
    "plt.xlabel('Epoch')\n",
    "plt.ylabel('Accuracy')\n",
    "plt.ylim([0.5, 1])\n",
    "plt.legend(loc='lower right')"
   ]
  },
  {
   "cell_type": "markdown",
   "metadata": {
    "id": "PY_sWLrYVOKH"
   },
   "source": [
    "Tingkat Akurasi dan Loss Model"
   ]
  },
  {
   "cell_type": "code",
   "execution_count": 22,
   "metadata": {
    "colab": {
     "base_uri": "https://localhost:8080/",
     "height": 545
    },
    "executionInfo": {
     "elapsed": 888,
     "status": "ok",
     "timestamp": 1649812932187,
     "user": {
      "displayName": "Tata Risa",
      "userId": "13357069012277764241"
     },
     "user_tz": -420
    },
    "id": "TD_sJdwOVUVW",
    "outputId": "c16347da-8826-4dd7-f791-58698160ef96"
   },
   "outputs": [
    {
     "data": {
      "image/png": "[encoded data removed]",
      "text/plain": [
       "<Figure size 432x288 with 1 Axes>"
      ]
     },
     "metadata": {
      "needs_background": "light"
     },
     "output_type": "display_data"
    },
    {
     "data": {
      "image/png": "[encoded data removed]",
      "text/plain": [
       "<Figure size 432x288 with 1 Axes>"
      ]
     },
     "metadata": {
      "needs_background": "light"
     },
     "output_type": "display_data"
    }
   ],
   "source": [
    "%matplotlib inline\n",
    "\n",
    "import matplotlib.image as mping\n",
    "import matplotlib.pyplot as plt\n",
    "\n",
    "acc = history.history['accuracy']\n",
    "val_acc = history.history['val_accuracy']\n",
    "loss = history.history['loss']\n",
    "val_loss = history.history['val_loss']\n",
    "\n",
    "epochs = range(len(acc))\n",
    "\n",
    "plt.plot(epochs, acc, 'r', label = 'Training Accuracy')\n",
    "plt.plot(epochs, val_acc, 'b', label = 'Validation Accuracy')\n",
    "plt.title('Training and Validation Accuracy')\n",
    "plt.legend(loc = 'best')\n",
    "plt.show()\n",
    "\n",
    "plt.plot(epochs, loss, 'r', label = 'Training Loss')\n",
    "plt.plot(epochs, val_loss, 'b', label = 'Validation Loss')\n",
    "plt.title('Training and Validation Accuracy')\n",
    "plt.legend(loc = 'best')\n",
    "plt.show()"
   ]
  },
  {
   "cell_type": "markdown",
   "metadata": {
    "id": "eJWrbS24X-Pc"
   },
   "source": [
    "Klasifikasi"
   ]
  },
  {
   "cell_type": "code",
   "execution_count": 23,
   "metadata": {
    "colab": {
     "base_uri": "https://localhost:8080/",
     "height": 341,
     "resources": {
      "http://localhost:8080/nbextensions/google.colab/files.js": {
       "data": "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",
       "headers": [
        [
         "content-type",
         "application/javascript"
        ]
       ],
       "ok": true,
       "status": 200,
       "status_text": ""
      }
     }
    },
    "executionInfo": {
     "elapsed": 25100,
     "status": "ok",
     "timestamp": 1649812963066,
     "user": {
      "displayName": "Tata Risa",
      "userId": "13357069012277764241"
     },
     "user_tz": -420
    },
    "id": "5s3MhVnXal-I",
    "outputId": "1ccccaee-bd49-41fc-c704-bd1147dd6bf1"
   },
   "outputs": [
    {
     "data": {
      "text/html": [
       "\n",
       "     <input type=\"file\" id=\"files-4f1211b6-1cea-49ab-a826-7d0a207e63ef\" name=\"files[]\" multiple disabled\n",
       "        style=\"border:none\" />\n",
       "     <output id=\"result-4f1211b6-1cea-49ab-a826-7d0a207e63ef\">\n",
       "      Upload widget is only available when the cell has been executed in the\n",
       "      current browser session. Please rerun this cell to enable.\n",
       "      </output>\n",
       "      <script src=\"/nbextensions/google.colab/files.js\"></script> "
      ],
      "text/plain": [
       "<IPython.core.display.HTML object>"
      ]
     },
     "metadata": {},
     "output_type": "display_data"
    },
    {
     "name": "stdout",
     "output_type": "stream",
     "text": [
      "Saving new.jpeg to new.jpeg\n",
      "[[1. 0. 0.]]\n"
     ]
    },
    {
     "data": {
      "image/png": "[encoded data removed]",
      "text/plain": [
       "<Figure size 432x288 with 1 Axes>"
      ]
     },
     "metadata": {
      "needs_background": "light"
     },
     "output_type": "display_data"
    }
   ],
   "source": [
    "import numpy as np\n",
    "from keras.preprocessing import image\n",
    "from google.colab import files\n",
    "import matplotlib.pyplot as plt\n",
    "from tensorflow.keras.layers import Dense\n",
    "import tensorflow as tf\n",
    "from tensorflow.keras import Model\n",
    "from keras.models import Model\n",
    "\n",
    "uploaded = files.upload()\n",
    "\n",
    "for fn in uploaded.keys():\n",
    "\n",
    "  #predicting images\n",
    "  path = fn\n",
    "  img = image.load_img(path, target_size = (150, 150))\n",
    "  implot = plt.imshow(img)\n",
    "  x = image.img_to_array(img)\n",
    "  x = np.expand_dims(x, axis = 0)\n",
    "\n",
    "  images = np.vstack([x])\n",
    "  classes = model.predict(images, batch_size = 100)\n",
    "  print(classes)\n",
    "  \"\"\"\n",
    "\n",
    "  print(fn)\n",
    "\n",
    "  class_list = os.listdir(train_dir)\n",
    "\n",
    "  for j in range(42):\n",
    "    if classes[0][j] == 1. :\n",
    "      print('This image belongs to class', class_list[j-1])\n",
    "      break\n",
    "\n",
    "  \"\"\""
   ]
  },
  {
   "cell_type": "code",
   "execution_count": 24,
   "metadata": {
    "executionInfo": {
     "elapsed": 566,
     "status": "ok",
     "timestamp": 1649812969117,
     "user": {
      "displayName": "Tata Risa",
      "userId": "13357069012277764241"
     },
     "user_tz": -420
    },
    "id": "AqwoH3iLvg3m"
   },
   "outputs": [],
   "source": [
    "model.save(\"filecnn.h5\")"
   ]
  }
 ],
 "metadata": {
  "accelerator": "GPU",
  "colab": {
   "authorship_tag": "ABX9TyOBjhTKXy9AUv14AyOOStKr",
   "collapsed_sections": [],
   "mount_file_id": "1yD-iCL4QoWO8ITVzTLx_RC-FD5ViUuXX",
   "name": "TA_CNN.ipynb",
   "provenance": []
  },
  "kernelspec": {
   "display_name": "Python 3 (ipykernel)",
   "language": "python",
   "name": "python3"
  },
  "language_info": {
   "codemirror_mode": {
    "name": "ipython",
    "version": 3
   },
   "file_extension": ".py",
   "mimetype": "text/x-python",
   "name": "python",
   "nbconvert_exporter": "python",
   "pygments_lexer": "ipython3",
   "version": "3.9.12"
  }
 },
 "nbformat": 4,
 "nbformat_minor": 1
}
